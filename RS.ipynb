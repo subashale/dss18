{
 "cells": [
  {
   "cell_type": "code",
   "execution_count": 6,
   "metadata": {},
   "outputs": [],
   "source": [
    "%config IPCompleter.greedy = True\n",
    "import keras\n",
    "from keras.models import Sequential\n",
    "from keras.layers import Dense, Dropout, Flatten\n",
    "from keras.layers import Conv2D, MaxPooling2D\n",
    "from keras import backend as K\n",
    "import matplotlib.pyplot as plt\n",
    "import pandas as pd\n",
    "from Two_Class_MNIST import TwoClassMnist as tcm\n",
    "# Use scikit-learn to grid search the batch size and epochs\n",
    "import numpy\n",
    "from sklearn.model_selection import RandomizedSearchCV\n",
    "from keras.wrappers.scikit_learn import KerasClassifier"
   ]
  },
  {
   "cell_type": "code",
   "execution_count": 3,
   "metadata": {},
   "outputs": [
    {
     "name": "stdout",
     "output_type": "stream",
     "text": [
      "x_train shape: (12700, 28, 28, 1)\n",
      "12700 train samples\n",
      "2167 test samples\n"
     ]
    }
   ],
   "source": [
    "x_train, x_test, y_train, y_test, input_shape = tcm.returnDataSet(1, 2, 28)\n",
    "dataset = ((x_train, y_train), (x_test, y_test))\n",
    "num_classes = 2\n",
    "X = x_train\n",
    "Y = y_train"
   ]
  },
  {
   "cell_type": "code",
   "execution_count": 42,
   "metadata": {},
   "outputs": [],
   "source": [
    "# Function to create model, required for KerasClassifier\n",
    "def create_model(optimizer='adam', learn_rate=0.01,\n",
    "                 momentum=0, init_mode='uniform', activation='relu',\n",
    "                dropout_rate=0.0, weight_constraint=0, neuron=1):\n",
    "    # create model\n",
    "    model = Sequential()\n",
    "    model.add(Conv2D(32, kernel_size=(3, 3),\n",
    "                     activation=activation,\n",
    "                     input_shape=input_shape))\n",
    "    model.add(Conv2D(64, (3, 3), activation=activation))\n",
    "    model.add(MaxPooling2D(pool_size=(2, 2)))\n",
    "    model.add(Dropout(dropout_rate))\n",
    "    model.add(Flatten())\n",
    "    model.add(Dense(128, activation=activation, kernel_initializer=init_mode))\n",
    "    model.add(Dropout(dropout_rate))\n",
    "    model.add(Dense(num_classes, activation=activation, kernel_initializer=init_mode))\n",
    "    \n",
    "    # Compile model\n",
    "    optimizer = SGD(lr=learn_rate, momentum=momentum)\n",
    "    model.compile(loss='binary_crossentropy', optimizer=optimizer, metrics=['accuracy'])\n",
    "    return model"
   ]
  },
  {
   "cell_type": "code",
   "execution_count": 8,
   "metadata": {},
   "outputs": [],
   "source": [
    "# create model\n",
    "model = KerasClassifier(build_fn=create_model, verbose=1)\n",
    "\n",
    "# Embed in to dictionary\n",
    "param_dist = {\"batch_size\": [8, 16, 32, 64, 128, 256],\n",
    "              \"epochs\": [2, 4, 6, 8, 10],\n",
    "              \"optimizer\": ['SGD', 'RMSprop', 'Adagrad', 'Adadelta', 'Adam', 'Adamax', 'Nadam'],\n",
    "              \"learn_rate\": [0.001, 0.01, 0.1, 0.2, 0.3],\n",
    "              \"momentum\": [0.0, 0.2, 0.4, 0.6, 0.8, 0.9],\n",
    "              \"init_mode\": ['uniform', 'lecun_uniform', 'normal', 'zero', 'glorot_normal', 'glorot_uniform', 'he_normal', 'he_uniform'],\n",
    "              \"activation\": ['softmax', 'softplus', 'softsign', 'relu', 'tanh', 'sigmoid', 'hard_sigmoid', 'linear'],\n",
    "              \"weight_constraint\": [1, 2, 3, 4, 5],\n",
    "              \"dropout_rate\": [0.0, 0.1, 0.2, 0.3, 0.4, 0.5, 0.6, 0.7, 0.8, 0.9],\n",
    "              \"neurons\": [1, 5, 10, 15, 20, 25, 30]}"
   ]
  },
  {
   "cell_type": "code",
   "execution_count": 18,
   "metadata": {},
   "outputs": [],
   "source": [
    "start = time()\n",
    "randomSearch = RandomizedSearchCV(estimator=model, param_distributions=param_dist, n_jobs=-1)\n",
    "randomSearchResult = random_search.fit(X, Y)\n",
    "print((time() - start))"
   ]
  },
  {
   "cell_type": "code",
   "execution_count": 23,
   "metadata": {},
   "outputs": [
    {
     "name": "stdout",
     "output_type": "stream",
     "text": [
      "time:  0.00016307830810546875\n"
     ]
    }
   ],
   "source": [
    "from time import time\n",
    "start = time()\n",
    "\n",
    "end = (time() - start)\n",
    "print(\"time: \", (time() - start))"
   ]
  },
  {
   "cell_type": "code",
   "execution_count": 21,
   "metadata": {},
   "outputs": [
    {
     "name": "stdout",
     "output_type": "stream",
     "text": [
      "------------ batch size: 8 and epoch size: 1 -------------\n",
      "Train on 12700 samples, validate on 2167 samples\n",
      "Epoch 1/1\n",
      "12700/12700 [==============================] - 178s 14ms/step - loss: 0.0020 - acc: 0.9997 - val_loss: 0.0059 - val_acc: 0.9986\n",
      "------------ batch size: 8 and epoch size: 1 -------------\n",
      "Train on 12700 samples, validate on 2167 samples\n",
      "Epoch 1/1\n",
      "12700/12700 [==============================] - 175s 14ms/step - loss: 0.0017 - acc: 0.9997 - val_loss: 0.0106 - val_acc: 0.9982\n",
      "------------ batch size: 32 and epoch size: 1 -------------\n",
      "Train on 12700 samples, validate on 2167 samples\n",
      "Epoch 1/1\n",
      "12700/12700 [==============================] - 120s 9ms/step - loss: 0.0019 - acc: 0.9997 - val_loss: 0.0075 - val_acc: 0.9982\n",
      "------------ batch size: 32 and epoch size: 1 -------------\n",
      "Train on 12700 samples, validate on 2167 samples\n",
      "Epoch 1/1\n",
      "12700/12700 [==============================] - 121s 10ms/step - loss: 0.0016 - acc: 0.9998 - val_loss: 0.0036 - val_acc: 0.9986\n"
     ]
    }
   ],
   "source": [
    "# summarize results\n",
    "\n",
    "print(\"Best: %f using %s\" % (grid_result.best_score_, grid_result.best_params_))\n",
    "means = grid_result.cv_results_['mean_test_score']\n",
    "stds = grid_result.cv_results_['std_test_score']\n",
    "params = grid_result.cv_results_['params']\n",
    "for mean, stdev, param in zip(means, stds, params):\n",
    "    print(\"%f (%f) with: %r\" % (mean, stdev, param))"
   ]
  }
 ],
 "metadata": {
  "kernelspec": {
   "display_name": "Python [default]",
   "language": "python",
   "name": "python3"
  },
  "language_info": {
   "codemirror_mode": {
    "name": "ipython",
    "version": 3
   },
   "file_extension": ".py",
   "mimetype": "text/x-python",
   "name": "python",
   "nbconvert_exporter": "python",
   "pygments_lexer": "ipython3",
   "version": "3.6.6"
  }
 },
 "nbformat": 4,
 "nbformat_minor": 2
}
